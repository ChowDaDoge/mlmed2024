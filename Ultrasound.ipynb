{
  "nbformat": 4,
  "nbformat_minor": 0,
  "metadata": {
    "colab": {
      "provenance": []
    },
    "kernelspec": {
      "name": "python3",
      "display_name": "Python 3"
    },
    "language_info": {
      "name": "python"
    }
  },
  "cells": [
    {
      "cell_type": "code",
      "source": [
        "from google.colab import drive\n",
        "drive.mount('/content/drive')\n"
      ],
      "metadata": {
        "id": "GQ8eVqUrcJQq",
        "colab": {
          "base_uri": "https://localhost:8080/"
        },
        "outputId": "d21ea223-c399-46b5-fc74-49459604f198"
      },
      "execution_count": null,
      "outputs": [
        {
          "output_type": "stream",
          "name": "stdout",
          "text": [
            "Drive already mounted at /content/drive; to attempt to forcibly remount, call drive.mount(\"/content/drive\", force_remount=True).\n"
          ]
        }
      ]
    },
    {
      "cell_type": "code",
      "source": [
        "import pandas as pd\n",
        "import numpy as np\n",
        "from keras.models import Sequential\n",
        "from keras.layers import Conv2D, MaxPooling2D, Flatten, Dense\n",
        "from tensorflow.keras.preprocessing.image import ImageDataGenerator\n",
        "from keras.preprocessing import image\n",
        "import os\n",
        "\n",
        "# Load the training and test data\n",
        "train_df = pd.read_csv('/content/drive/MyDrive/1327317/training_set_pixel_size_and_HC.csv')\n",
        "test_df = pd.read_csv('/content/drive/MyDrive/1327317/test_set_pixel_size.csv')\n",
        "\n",
        "# Preprocess the images\n",
        "train_datagen = ImageDataGenerator(rescale=1./255)\n",
        "test_datagen = ImageDataGenerator(rescale=1./255)\n",
        "\n",
        "train_generator = train_datagen.flow_from_dataframe(\n",
        "    dataframe=train_df,\n",
        "    directory='/content/drive/MyDrive/1327317/training_set',\n",
        "    x_col=\"filename\",\n",
        "    y_col=\"pixel size(mm)\",\n",
        "    target_size=(64, 64),\n",
        "    batch_size=16,\n",
        "    class_mode='raw')\n",
        "\n",
        "test_generator = test_datagen.flow_from_dataframe(\n",
        "    dataframe=test_df,\n",
        "    directory='/content/drive/MyDrive/1327317/test_set',\n",
        "    x_col=\"filename\",\n",
        "    target_size=(64, 64),\n",
        "    batch_size=16,\n",
        "    class_mode=None)\n",
        "\n",
        "\n",
        "# Define the model\n",
        "model = Sequential()\n",
        "model.add(Conv2D(32, (3, 3), activation='relu', input_shape=(64, 64, 3)))\n",
        "model.add(MaxPooling2D((2, 2)))\n",
        "model.add(Conv2D(64, (3, 3), activation='relu'))\n",
        "model.add(MaxPooling2D((2, 2)))\n",
        "model.add(Conv2D(64, (3, 3), activation='relu'))\n",
        "model.add(Flatten())\n",
        "model.add(Dense(64, activation='relu'))\n",
        "model.add(Dense(1))  # Output layer for regression\n",
        "\n",
        "# Compile the model\n",
        "model.compile(optimizer='adam', loss='mean_squared_error', metrics=['mae'])\n",
        "\n",
        "# Train the model\n",
        "model.fit(train_generator, epochs=50)\n",
        "\n",
        "# Predict on the test set\n",
        "test_generator.reset()\n",
        "pred = model.predict(test_generator)"
      ],
      "metadata": {
        "id": "0tXR3ycfvewJ",
        "colab": {
          "base_uri": "https://localhost:8080/"
        },
        "outputId": "924b0e82-2127-4ea4-bfa1-308096b0fb65"
      },
      "execution_count": 6,
      "outputs": [
        {
          "output_type": "stream",
          "name": "stdout",
          "text": [
            "Found 999 validated image filenames.\n",
            "Found 335 validated image filenames.\n",
            "Epoch 1/50\n",
            "63/63 [==============================] - 64s 320ms/step - loss: 0.0168 - mae: 0.0718\n",
            "Epoch 2/50\n",
            "63/63 [==============================] - 16s 257ms/step - loss: 0.0015 - mae: 0.0285\n",
            "Epoch 3/50\n",
            "63/63 [==============================] - 16s 250ms/step - loss: 9.2614e-04 - mae: 0.0227\n",
            "Epoch 4/50\n",
            "63/63 [==============================] - 16s 248ms/step - loss: 8.5939e-04 - mae: 0.0223\n",
            "Epoch 5/50\n",
            "63/63 [==============================] - 16s 248ms/step - loss: 6.7439e-04 - mae: 0.0196\n",
            "Epoch 6/50\n",
            "63/63 [==============================] - 17s 268ms/step - loss: 5.3958e-04 - mae: 0.0177\n",
            "Epoch 7/50\n",
            "63/63 [==============================] - 16s 249ms/step - loss: 4.3052e-04 - mae: 0.0161\n",
            "Epoch 8/50\n",
            "63/63 [==============================] - 17s 263ms/step - loss: 3.5956e-04 - mae: 0.0142\n",
            "Epoch 9/50\n",
            "63/63 [==============================] - 16s 258ms/step - loss: 3.1207e-04 - mae: 0.0135\n",
            "Epoch 10/50\n",
            "63/63 [==============================] - 16s 248ms/step - loss: 2.6669e-04 - mae: 0.0125\n",
            "Epoch 11/50\n",
            "63/63 [==============================] - 16s 248ms/step - loss: 2.2666e-04 - mae: 0.0117\n",
            "Epoch 12/50\n",
            "63/63 [==============================] - 17s 265ms/step - loss: 2.0008e-04 - mae: 0.0111\n",
            "Epoch 13/50\n",
            "63/63 [==============================] - 17s 265ms/step - loss: 2.4952e-04 - mae: 0.0125\n",
            "Epoch 14/50\n",
            "63/63 [==============================] - 16s 252ms/step - loss: 1.6148e-04 - mae: 0.0100\n",
            "Epoch 15/50\n",
            "63/63 [==============================] - 16s 249ms/step - loss: 1.3149e-04 - mae: 0.0089\n",
            "Epoch 16/50\n",
            "63/63 [==============================] - 16s 246ms/step - loss: 8.7543e-05 - mae: 0.0074\n",
            "Epoch 17/50\n",
            "63/63 [==============================] - 16s 250ms/step - loss: 9.7758e-05 - mae: 0.0076\n",
            "Epoch 18/50\n",
            "63/63 [==============================] - 16s 249ms/step - loss: 8.7967e-05 - mae: 0.0072\n",
            "Epoch 19/50\n",
            "63/63 [==============================] - 16s 249ms/step - loss: 6.6163e-05 - mae: 0.0064\n",
            "Epoch 20/50\n",
            "63/63 [==============================] - 16s 258ms/step - loss: 5.6644e-05 - mae: 0.0059\n",
            "Epoch 21/50\n",
            "63/63 [==============================] - 16s 245ms/step - loss: 4.2511e-05 - mae: 0.0051\n",
            "Epoch 22/50\n",
            "63/63 [==============================] - 16s 246ms/step - loss: 3.5158e-05 - mae: 0.0046\n",
            "Epoch 23/50\n",
            "63/63 [==============================] - 16s 248ms/step - loss: 2.9234e-05 - mae: 0.0042\n",
            "Epoch 24/50\n",
            "63/63 [==============================] - 16s 249ms/step - loss: 2.9742e-05 - mae: 0.0043\n",
            "Epoch 25/50\n",
            "63/63 [==============================] - 16s 250ms/step - loss: 2.7125e-05 - mae: 0.0041\n",
            "Epoch 26/50\n",
            "63/63 [==============================] - 16s 259ms/step - loss: 2.4199e-05 - mae: 0.0039\n",
            "Epoch 27/50\n",
            "63/63 [==============================] - 16s 248ms/step - loss: 2.8685e-05 - mae: 0.0042\n",
            "Epoch 28/50\n",
            "63/63 [==============================] - 16s 247ms/step - loss: 3.2064e-05 - mae: 0.0044\n",
            "Epoch 29/50\n",
            "63/63 [==============================] - 16s 248ms/step - loss: 2.6605e-05 - mae: 0.0040\n",
            "Epoch 30/50\n",
            "63/63 [==============================] - 16s 249ms/step - loss: 4.3929e-05 - mae: 0.0052\n",
            "Epoch 31/50\n",
            "63/63 [==============================] - 16s 249ms/step - loss: 5.3519e-05 - mae: 0.0057\n",
            "Epoch 32/50\n",
            "63/63 [==============================] - 16s 257ms/step - loss: 4.7825e-05 - mae: 0.0054\n",
            "Epoch 33/50\n",
            "63/63 [==============================] - 16s 259ms/step - loss: 4.0430e-05 - mae: 0.0049\n",
            "Epoch 34/50\n",
            "63/63 [==============================] - 16s 248ms/step - loss: 3.6446e-05 - mae: 0.0047\n",
            "Epoch 35/50\n",
            "63/63 [==============================] - 16s 246ms/step - loss: 3.3680e-05 - mae: 0.0045\n",
            "Epoch 36/50\n",
            "63/63 [==============================] - 16s 247ms/step - loss: 2.9757e-05 - mae: 0.0041\n",
            "Epoch 37/50\n",
            "63/63 [==============================] - 16s 248ms/step - loss: 2.8894e-05 - mae: 0.0042\n",
            "Epoch 38/50\n",
            "63/63 [==============================] - 16s 252ms/step - loss: 2.9577e-05 - mae: 0.0041\n",
            "Epoch 39/50\n",
            "63/63 [==============================] - 17s 266ms/step - loss: 8.2458e-05 - mae: 0.0072\n",
            "Epoch 40/50\n",
            "63/63 [==============================] - 16s 254ms/step - loss: 5.1873e-05 - mae: 0.0055\n",
            "Epoch 41/50\n",
            "63/63 [==============================] - 16s 247ms/step - loss: 3.5177e-05 - mae: 0.0046\n",
            "Epoch 42/50\n",
            "63/63 [==============================] - 16s 247ms/step - loss: 3.6553e-05 - mae: 0.0047\n",
            "Epoch 43/50\n",
            "63/63 [==============================] - 16s 246ms/step - loss: 2.2507e-05 - mae: 0.0037\n",
            "Epoch 44/50\n",
            "63/63 [==============================] - 16s 246ms/step - loss: 1.8891e-05 - mae: 0.0033\n",
            "Epoch 45/50\n",
            "63/63 [==============================] - 16s 245ms/step - loss: 4.1373e-05 - mae: 0.0050\n",
            "Epoch 46/50\n",
            "63/63 [==============================] - 16s 248ms/step - loss: 4.2630e-05 - mae: 0.0051\n",
            "Epoch 47/50\n",
            "63/63 [==============================] - 15s 244ms/step - loss: 3.3506e-05 - mae: 0.0044\n",
            "Epoch 48/50\n",
            "63/63 [==============================] - 16s 246ms/step - loss: 8.0772e-05 - mae: 0.0071\n",
            "Epoch 49/50\n",
            "63/63 [==============================] - 16s 248ms/step - loss: 6.0991e-05 - mae: 0.0060\n",
            "Epoch 50/50\n",
            "63/63 [==============================] - 16s 245ms/step - loss: 3.1503e-05 - mae: 0.0043\n",
            "21/21 [==============================] - 91s 5s/step\n"
          ]
        }
      ]
    },
    {
      "cell_type": "code",
      "source": [
        "from sklearn.metrics import mean_absolute_error\n",
        "\n",
        "# Get the true values\n",
        "y_true = test_df['pixel size(mm)'].values\n",
        "\n",
        "# Calculate MAE\n",
        "mae = mean_absolute_error(y_true, pred)\n",
        "\n",
        "print(\"Mean Absolute Error:\", mae)"
      ],
      "metadata": {
        "colab": {
          "base_uri": "https://localhost:8080/"
        },
        "id": "-BxVhyO00XOq",
        "outputId": "4f080f28-2472-427d-e053-d7b656e3362e"
      },
      "execution_count": 7,
      "outputs": [
        {
          "output_type": "stream",
          "name": "stdout",
          "text": [
            "Mean Absolute Error: 0.05571344657846689\n"
          ]
        }
      ]
    }
  ]
}